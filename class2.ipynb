{
 "cells": [
  {
   "cell_type": "code",
   "execution_count": 1,
   "id": "8e7da802",
   "metadata": {},
   "outputs": [],
   "source": [
    "s=\"Jayasree\""
   ]
  },
  {
   "cell_type": "code",
   "execution_count": 2,
   "id": "526077af",
   "metadata": {},
   "outputs": [
    {
     "data": {
      "text/plain": [
       "'Jayasree'"
      ]
     },
     "execution_count": 2,
     "metadata": {},
     "output_type": "execute_result"
    }
   ],
   "source": [
    "s"
   ]
  },
  {
   "cell_type": "code",
   "execution_count": 3,
   "id": "83fafd4a",
   "metadata": {},
   "outputs": [
    {
     "data": {
      "text/plain": [
       "'J'"
      ]
     },
     "execution_count": 3,
     "metadata": {},
     "output_type": "execute_result"
    }
   ],
   "source": [
    "s[-8]"
   ]
  },
  {
   "cell_type": "code",
   "execution_count": 4,
   "id": "a7486365",
   "metadata": {},
   "outputs": [
    {
     "data": {
      "text/plain": [
       "'a'"
      ]
     },
     "execution_count": 4,
     "metadata": {},
     "output_type": "execute_result"
    }
   ],
   "source": [
    "s[-7]"
   ]
  },
  {
   "cell_type": "code",
   "execution_count": 5,
   "id": "222c7293",
   "metadata": {},
   "outputs": [
    {
     "ename": "TypeError",
     "evalue": "can only concatenate str (not \"int\") to str",
     "output_type": "error",
     "traceback": [
      "\u001b[1;31m---------------------------------------------------------------------------\u001b[0m",
      "\u001b[1;31mTypeError\u001b[0m                                 Traceback (most recent call last)",
      "Input \u001b[1;32mIn [5]\u001b[0m, in \u001b[0;36m<cell line: 1>\u001b[1;34m()\u001b[0m\n\u001b[1;32m----> 1\u001b[0m \u001b[43ms\u001b[49m\u001b[43m \u001b[49m\u001b[38;5;241;43m+\u001b[39;49m\u001b[38;5;241;43m1\u001b[39;49m\n",
      "\u001b[1;31mTypeError\u001b[0m: can only concatenate str (not \"int\") to str"
     ]
    }
   ],
   "source": [
    "s +1\n"
   ]
  },
  {
   "cell_type": "code",
   "execution_count": 6,
   "id": "b543945e",
   "metadata": {},
   "outputs": [
    {
     "data": {
      "text/plain": [
       "'Jayasree20'"
      ]
     },
     "execution_count": 6,
     "metadata": {},
     "output_type": "execute_result"
    }
   ],
   "source": [
    "s + \"20\""
   ]
  },
  {
   "cell_type": "code",
   "execution_count": 7,
   "id": "68029b1b",
   "metadata": {},
   "outputs": [
    {
     "data": {
      "text/plain": [
       "'jayasreechalla'"
      ]
     },
     "execution_count": 7,
     "metadata": {},
     "output_type": "execute_result"
    }
   ],
   "source": [
    "\"jayasree\"+\"challa\""
   ]
  },
  {
   "cell_type": "code",
   "execution_count": 9,
   "id": "f8fa73d6",
   "metadata": {},
   "outputs": [
    {
     "data": {
      "text/plain": [
       "'Jayasree challa'"
      ]
     },
     "execution_count": 9,
     "metadata": {},
     "output_type": "execute_result"
    }
   ],
   "source": [
    "\"Jayasree\" +\" \" + \"challa\""
   ]
  },
  {
   "cell_type": "code",
   "execution_count": 11,
   "id": "92d93991",
   "metadata": {},
   "outputs": [
    {
     "ename": "TypeError",
     "evalue": "can only concatenate str (not \"int\") to str",
     "output_type": "error",
     "traceback": [
      "\u001b[1;31m---------------------------------------------------------------------------\u001b[0m",
      "\u001b[1;31mTypeError\u001b[0m                                 Traceback (most recent call last)",
      "Input \u001b[1;32mIn [11]\u001b[0m, in \u001b[0;36m<cell line: 1>\u001b[1;34m()\u001b[0m\n\u001b[1;32m----> 1\u001b[0m \u001b[43ms\u001b[49m\u001b[38;5;241;43m+\u001b[39;49m\u001b[38;5;241;43m3\u001b[39;49m\n",
      "\u001b[1;31mTypeError\u001b[0m: can only concatenate str (not \"int\") to str"
     ]
    }
   ],
   "source": [
    "s+3"
   ]
  },
  {
   "cell_type": "code",
   "execution_count": 12,
   "id": "75b36477",
   "metadata": {},
   "outputs": [
    {
     "data": {
      "text/plain": [
       "'Jayasree43'"
      ]
     },
     "execution_count": 12,
     "metadata": {},
     "output_type": "execute_result"
    }
   ],
   "source": [
    "s+\"43\""
   ]
  },
  {
   "cell_type": "code",
   "execution_count": 13,
   "id": "e159480e",
   "metadata": {},
   "outputs": [
    {
     "data": {
      "text/plain": [
       "'JayasreeJayasree'"
      ]
     },
     "execution_count": 13,
     "metadata": {},
     "output_type": "execute_result"
    }
   ],
   "source": [
    "s+s"
   ]
  },
  {
   "cell_type": "code",
   "execution_count": 14,
   "id": "2b8a2bb1",
   "metadata": {},
   "outputs": [
    {
     "data": {
      "text/plain": [
       "'Jayasree1'"
      ]
     },
     "execution_count": 14,
     "metadata": {},
     "output_type": "execute_result"
    }
   ],
   "source": [
    "s+str(1)"
   ]
  },
  {
   "cell_type": "code",
   "execution_count": 16,
   "id": "37f4a9f4",
   "metadata": {},
   "outputs": [],
   "source": [
    "s1=\"lahari\""
   ]
  },
  {
   "cell_type": "code",
   "execution_count": 17,
   "id": "45424395",
   "metadata": {},
   "outputs": [
    {
     "data": {
      "text/plain": [
       "'lahari'"
      ]
     },
     "execution_count": 17,
     "metadata": {},
     "output_type": "execute_result"
    }
   ],
   "source": [
    "s1"
   ]
  },
  {
   "cell_type": "code",
   "execution_count": 18,
   "id": "ad396b77",
   "metadata": {},
   "outputs": [
    {
     "data": {
      "text/plain": [
       "'laha'"
      ]
     },
     "execution_count": 18,
     "metadata": {},
     "output_type": "execute_result"
    }
   ],
   "source": [
    "s1[0:4]"
   ]
  },
  {
   "cell_type": "code",
   "execution_count": 19,
   "id": "a552ef83",
   "metadata": {},
   "outputs": [
    {
     "data": {
      "text/plain": [
       "''"
      ]
     },
     "execution_count": 19,
     "metadata": {},
     "output_type": "execute_result"
    }
   ],
   "source": [
    "s1[-1:-6]"
   ]
  },
  {
   "cell_type": "code",
   "execution_count": 24,
   "id": "bbce4d4d",
   "metadata": {},
   "outputs": [
    {
     "data": {
      "text/plain": [
       "'har'"
      ]
     },
     "execution_count": 24,
     "metadata": {},
     "output_type": "execute_result"
    }
   ],
   "source": [
    "s1[-4:-1]"
   ]
  },
  {
   "cell_type": "code",
   "execution_count": 25,
   "id": "059c2c61",
   "metadata": {},
   "outputs": [
    {
     "data": {
      "text/plain": [
       "'a'"
      ]
     },
     "execution_count": 25,
     "metadata": {},
     "output_type": "execute_result"
    }
   ],
   "source": [
    "s1[3:-2]"
   ]
  },
  {
   "cell_type": "code",
   "execution_count": 30,
   "id": "5b0b6557",
   "metadata": {},
   "outputs": [
    {
     "data": {
      "text/plain": [
       "''"
      ]
     },
     "execution_count": 30,
     "metadata": {},
     "output_type": "execute_result"
    }
   ],
   "source": [
    "s1[-5:1]"
   ]
  },
  {
   "cell_type": "code",
   "execution_count": 29,
   "id": "ab0f63d9",
   "metadata": {},
   "outputs": [
    {
     "data": {
      "text/plain": [
       "''"
      ]
     },
     "execution_count": 29,
     "metadata": {},
     "output_type": "execute_result"
    }
   ],
   "source": [
    "s1[1:-5]"
   ]
  },
  {
   "cell_type": "code",
   "execution_count": 31,
   "id": "a20c025b",
   "metadata": {},
   "outputs": [
    {
     "data": {
      "text/plain": [
       "'lahari'"
      ]
     },
     "execution_count": 31,
     "metadata": {},
     "output_type": "execute_result"
    }
   ],
   "source": [
    "s1[:]"
   ]
  },
  {
   "cell_type": "code",
   "execution_count": 35,
   "id": "23bcea44",
   "metadata": {},
   "outputs": [
    {
     "data": {
      "text/plain": [
       "'aha'"
      ]
     },
     "execution_count": 35,
     "metadata": {},
     "output_type": "execute_result"
    }
   ],
   "source": [
    "s1[1:4:1]"
   ]
  },
  {
   "cell_type": "code",
   "execution_count": 36,
   "id": "28eb7215",
   "metadata": {},
   "outputs": [
    {
     "data": {
      "text/plain": [
       "''"
      ]
     },
     "execution_count": 36,
     "metadata": {},
     "output_type": "execute_result"
    }
   ],
   "source": [
    "s1[1:4:-1]"
   ]
  },
  {
   "cell_type": "code",
   "execution_count": 37,
   "id": "030279fa",
   "metadata": {},
   "outputs": [
    {
     "data": {
      "text/plain": [
       "''"
      ]
     },
     "execution_count": 37,
     "metadata": {},
     "output_type": "execute_result"
    }
   ],
   "source": [
    "s1[-50:2:-2]"
   ]
  },
  {
   "cell_type": "code",
   "execution_count": 38,
   "id": "201d3b67",
   "metadata": {},
   "outputs": [
    {
     "data": {
      "text/plain": [
       "6"
      ]
     },
     "execution_count": 38,
     "metadata": {},
     "output_type": "execute_result"
    }
   ],
   "source": [
    "len(s1)"
   ]
  },
  {
   "cell_type": "code",
   "execution_count": 42,
   "id": "120a7a0d",
   "metadata": {},
   "outputs": [
    {
     "data": {
      "text/plain": [
       "2"
      ]
     },
     "execution_count": 42,
     "metadata": {},
     "output_type": "execute_result"
    }
   ],
   "source": [
    "s1.count(\"a\")"
   ]
  },
  {
   "cell_type": "code",
   "execution_count": 43,
   "id": "924ff06e",
   "metadata": {},
   "outputs": [
    {
     "data": {
      "text/plain": [
       "1"
      ]
     },
     "execution_count": 43,
     "metadata": {},
     "output_type": "execute_result"
    }
   ],
   "source": [
    "s1.count(\"h\")"
   ]
  },
  {
   "cell_type": "code",
   "execution_count": 44,
   "id": "bef9f901",
   "metadata": {},
   "outputs": [
    {
     "data": {
      "text/plain": [
       "['l', 'h', 'ri']"
      ]
     },
     "execution_count": 44,
     "metadata": {},
     "output_type": "execute_result"
    }
   ],
   "source": [
    "s1.split(\"a\")"
   ]
  },
  {
   "cell_type": "code",
   "execution_count": 45,
   "id": "a06549c0",
   "metadata": {},
   "outputs": [
    {
     "data": {
      "text/plain": [
       "'LAHARI'"
      ]
     },
     "execution_count": 45,
     "metadata": {},
     "output_type": "execute_result"
    }
   ],
   "source": [
    "s1.upper()"
   ]
  },
  {
   "cell_type": "code",
   "execution_count": 46,
   "id": "d5750e9f",
   "metadata": {},
   "outputs": [
    {
     "data": {
      "text/plain": [
       "'lahari'"
      ]
     },
     "execution_count": 46,
     "metadata": {},
     "output_type": "execute_result"
    }
   ],
   "source": [
    "s1.lower()"
   ]
  },
  {
   "cell_type": "code",
   "execution_count": 47,
   "id": "614960d3",
   "metadata": {},
   "outputs": [],
   "source": [
    "s2=\"thallapalli niharika\""
   ]
  },
  {
   "cell_type": "code",
   "execution_count": 49,
   "id": "f9901a5e",
   "metadata": {},
   "outputs": [
    {
     "data": {
      "text/plain": [
       "'Thallapalli Niharika'"
      ]
     },
     "execution_count": 49,
     "metadata": {},
     "output_type": "execute_result"
    }
   ],
   "source": [
    "s2.title()"
   ]
  },
  {
   "cell_type": "code",
   "execution_count": 51,
   "id": "a401f449",
   "metadata": {},
   "outputs": [
    {
     "data": {
      "text/plain": [
       "'Thallapalli niharika'"
      ]
     },
     "execution_count": 51,
     "metadata": {},
     "output_type": "execute_result"
    }
   ],
   "source": [
    "s2.capitalize()"
   ]
  },
  {
   "cell_type": "code",
   "execution_count": 52,
   "id": "871bf74e",
   "metadata": {},
   "outputs": [],
   "source": [
    "s3=\"BhavYa\""
   ]
  },
  {
   "cell_type": "code",
   "execution_count": 53,
   "id": "ff1a9e22",
   "metadata": {},
   "outputs": [
    {
     "data": {
      "text/plain": [
       "'bHAVyA'"
      ]
     },
     "execution_count": 53,
     "metadata": {},
     "output_type": "execute_result"
    }
   ],
   "source": [
    "s3.swapcase()"
   ]
  },
  {
   "cell_type": "code",
   "execution_count": 56,
   "id": "d9924324",
   "metadata": {},
   "outputs": [],
   "source": [
    "s4=\"      Kanigiri Vinay Sai Teja    \""
   ]
  },
  {
   "cell_type": "code",
   "execution_count": 57,
   "id": "3e6c210a",
   "metadata": {},
   "outputs": [
    {
     "data": {
      "text/plain": [
       "'Kanigiri Vinay Sai Teja'"
      ]
     },
     "execution_count": 57,
     "metadata": {},
     "output_type": "execute_result"
    }
   ],
   "source": [
    "s4.strip()"
   ]
  },
  {
   "cell_type": "code",
   "execution_count": 64,
   "id": "e8263648",
   "metadata": {},
   "outputs": [
    {
     "data": {
      "text/plain": [
       "'########      Kanigiri Vinay Sai Teja    #########'"
      ]
     },
     "execution_count": 64,
     "metadata": {},
     "output_type": "execute_result"
    }
   ],
   "source": [
    "s4.center(50,\"#\")"
   ]
  },
  {
   "cell_type": "code",
   "execution_count": 66,
   "id": "0093ad13",
   "metadata": {},
   "outputs": [
    {
     "data": {
      "text/plain": [
       "'Kanigiri Vinay Sai Teja    '"
      ]
     },
     "execution_count": 66,
     "metadata": {},
     "output_type": "execute_result"
    }
   ],
   "source": [
    "s4.lstrip()"
   ]
  },
  {
   "cell_type": "code",
   "execution_count": 71,
   "id": "2228a29e",
   "metadata": {},
   "outputs": [
    {
     "data": {
      "text/plain": [
       "'      Kanigiri Vinay Sai Teja'"
      ]
     },
     "execution_count": 71,
     "metadata": {},
     "output_type": "execute_result"
    }
   ],
   "source": [
    "s4.rstrip()"
   ]
  },
  {
   "cell_type": "code",
   "execution_count": 72,
   "id": "875ded90",
   "metadata": {},
   "outputs": [],
   "source": [
    "s5=\"Ram\""
   ]
  },
  {
   "cell_type": "code",
   "execution_count": 73,
   "id": "d39b90b7",
   "metadata": {},
   "outputs": [
    {
     "data": {
      "text/plain": [
       "'********Ram*********'"
      ]
     },
     "execution_count": 73,
     "metadata": {},
     "output_type": "execute_result"
    }
   ],
   "source": [
    "s5.center(20,\"*\")"
   ]
  },
  {
   "cell_type": "code",
   "execution_count": 76,
   "id": "1be7521c",
   "metadata": {},
   "outputs": [
    {
     "data": {
      "text/plain": [
       "'R.a.m'"
      ]
     },
     "execution_count": 76,
     "metadata": {},
     "output_type": "execute_result"
    }
   ],
   "source": [
    "\".\".join(s5)"
   ]
  },
  {
   "cell_type": "code",
   "execution_count": null,
   "id": "a4adb7dc",
   "metadata": {},
   "outputs": [],
   "source": []
  }
 ],
 "metadata": {
  "kernelspec": {
   "display_name": "Python 3 (ipykernel)",
   "language": "python",
   "name": "python3"
  },
  "language_info": {
   "codemirror_mode": {
    "name": "ipython",
    "version": 3
   },
   "file_extension": ".py",
   "mimetype": "text/x-python",
   "name": "python",
   "nbconvert_exporter": "python",
   "pygments_lexer": "ipython3",
   "version": "3.10.5"
  }
 },
 "nbformat": 4,
 "nbformat_minor": 5
}
